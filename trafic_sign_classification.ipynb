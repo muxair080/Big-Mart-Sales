{
  "cells": [
    {
      "cell_type": "markdown",
      "metadata": {
        "id": "view-in-github",
        "colab_type": "text"
      },
      "source": [
        "<a href=\"https://colab.research.google.com/github/muxair080/Big-Mart-Sales/blob/main/trafic_sign_classification.ipynb\" target=\"_parent\"><img src=\"https://colab.research.google.com/assets/colab-badge.svg\" alt=\"Open In Colab\"/></a>"
      ]
    },
    {
      "cell_type": "code",
      "execution_count": 95,
      "metadata": {
        "id": "a5m1S59AKYoY"
      },
      "outputs": [],
      "source": [
        "!mkdir -p ~/.kaggle\n",
        "!cp kaggle.json ~/.kaggle/"
      ]
    },
    {
      "cell_type": "code",
      "execution_count": 96,
      "metadata": {
        "colab": {
          "base_uri": "https://localhost:8080/"
        },
        "id": "XcxaEXHYKhxD",
        "outputId": "03572cec-3008-4e31-cdeb-d7ef3b612449"
      },
      "outputs": [
        {
          "output_type": "stream",
          "name": "stdout",
          "text": [
            "Warning: Your Kaggle API key is readable by other users on this system! To fix this, you can run 'chmod 600 /root/.kaggle/kaggle.json'\n",
            "gtsrb-german-traffic-sign.zip: Skipping, found more recently modified local copy (use --force to force download)\n"
          ]
        }
      ],
      "source": [
        "!kaggle datasets download -d meowmeowmeowmeowmeow/gtsrb-german-traffic-sign"
      ]
    },
    {
      "cell_type": "code",
      "execution_count": 97,
      "metadata": {
        "id": "DTP_ZFBCKhuP"
      },
      "outputs": [],
      "source": [
        "import zipfile\n",
        "zip_ref = zipfile.ZipFile('/content/gtsrb-german-traffic-sign.zip')\n",
        "zip_ref.extractall('/content')\n",
        "zip_ref.close()"
      ]
    },
    {
      "cell_type": "code",
      "execution_count": 98,
      "metadata": {
        "id": "x9vCAxNiKhqr"
      },
      "outputs": [],
      "source": [
        "import numpy as np\n",
        "import pandas as pd\n",
        "import matplotlib.pyplot as plt\n",
        "import cv2\n",
        "import tensorflow as tf\n",
        "from PIL import Image\n",
        "import os\n",
        "from sklearn.model_selection import train_test_split\n",
        "from keras.utils import to_categorical\n",
        "from keras.models import Sequential, load_model\n",
        "from keras.layers import Conv2D, MaxPool2D, Dense, Flatten, Dropout,BatchNormalization"
      ]
    },
    {
      "cell_type": "markdown",
      "metadata": {
        "id": "fkjYmsLeLeHy"
      },
      "source": [
        "# Convert images to arrays"
      ]
    },
    {
      "cell_type": "code",
      "execution_count": 99,
      "metadata": {
        "id": "HdPTye_qKhnL"
      },
      "outputs": [],
      "source": [
        "data = []\n",
        "labels = []\n",
        "classes = 43\n",
        "cur_path = os.getcwd()"
      ]
    },
    {
      "cell_type": "markdown",
      "metadata": {
        "id": "D879q9bALxNO"
      },
      "source": [
        "# Preprocess Images"
      ]
    },
    {
      "cell_type": "code",
      "execution_count": 100,
      "metadata": {
        "id": "JbWMYaqKNpJR"
      },
      "outputs": [],
      "source": [
        "# /content/train/0/00000_00000_00000.png"
      ]
    },
    {
      "cell_type": "code",
      "execution_count": 101,
      "metadata": {
        "id": "CZQvm-dILtG0"
      },
      "outputs": [],
      "source": [
        "for i in range(classes):\n",
        "  path = os.path.join(cur_path, 'train', str(i))\n",
        "  # print(path)\n",
        "  images = os.listdir(path)\n",
        "  # print(images)\n",
        "  for img in images:\n",
        "    try:\n",
        "      image = Image.open(path+'//'+img)\n",
        "      image = image.resize((30,30))\n",
        "      image = np.array(image)\n",
        "      data.append(image)\n",
        "      labels.append(i)\n",
        "    except Exception as e:\n",
        "      print(e)\n",
        "\n"
      ]
    },
    {
      "cell_type": "code",
      "execution_count": 102,
      "metadata": {
        "colab": {
          "base_uri": "https://localhost:8080/"
        },
        "id": "47kUPOzMRhpZ",
        "outputId": "a51aab6a-f476-4a7b-c17c-16722e7efb6e"
      },
      "outputs": [
        {
          "output_type": "execute_result",
          "data": {
            "text/plain": [
              "(39209, 30, 30, 3)"
            ]
          },
          "metadata": {},
          "execution_count": 102
        }
      ],
      "source": [
        "d = np.array(data)\n",
        "d.shape"
      ]
    },
    {
      "cell_type": "markdown",
      "metadata": {
        "id": "z1EieJjkPlOt"
      },
      "source": [
        "# List to numpy arrays"
      ]
    },
    {
      "cell_type": "code",
      "execution_count": 103,
      "metadata": {
        "id": "CKpsLkMeLuKl"
      },
      "outputs": [],
      "source": [
        "data = np.array(data)\n",
        "labels = np.array(labels)"
      ]
    },
    {
      "cell_type": "code",
      "execution_count": 104,
      "metadata": {
        "colab": {
          "base_uri": "https://localhost:8080/"
        },
        "id": "Bcjtjf-GRTBV",
        "outputId": "ec01290b-762c-40af-fb07-40e270d50eea"
      },
      "outputs": [
        {
          "output_type": "execute_result",
          "data": {
            "text/plain": [
              "array([[[[ 76,  63,  69],\n",
              "         [ 73,  65,  68],\n",
              "         [ 72,  64,  68],\n",
              "         ...,\n",
              "         [ 27,  27,  24],\n",
              "         [ 27,  27,  26],\n",
              "         [ 23,  25,  24]],\n",
              "\n",
              "        [[ 73,  74,  80],\n",
              "         [ 84,  76,  79],\n",
              "         [ 85,  78,  78],\n",
              "         ...,\n",
              "         [ 51,  47,  44],\n",
              "         [ 54,  50,  48],\n",
              "         [ 55,  52,  50]],\n",
              "\n",
              "        [[ 72,  82,  88],\n",
              "         [132, 116, 120],\n",
              "         [139, 125, 124],\n",
              "         ...,\n",
              "         [ 72,  68,  66],\n",
              "         [ 72,  69,  67],\n",
              "         [ 73,  71,  70]],\n",
              "\n",
              "        ...,\n",
              "\n",
              "        [[178, 171, 169],\n",
              "         [179, 174, 174],\n",
              "         [182, 176, 177],\n",
              "         ...,\n",
              "         [163, 160, 161],\n",
              "         [156, 155, 158],\n",
              "         [164, 157, 160]],\n",
              "\n",
              "        [[178, 170, 171],\n",
              "         [181, 175, 175],\n",
              "         [182, 177, 174],\n",
              "         ...,\n",
              "         [128, 133, 136],\n",
              "         [109, 120, 127],\n",
              "         [134, 137, 144]],\n",
              "\n",
              "        [[181, 172, 172],\n",
              "         [182, 175, 173],\n",
              "         [182, 177, 171],\n",
              "         ...,\n",
              "         [ 92, 108, 114],\n",
              "         [ 85, 102, 105],\n",
              "         [108, 122, 124]]],\n",
              "\n",
              "\n",
              "       [[[ 55,  56,  47],\n",
              "         [ 47,  46,  45],\n",
              "         [ 32,  37,  36],\n",
              "         ...,\n",
              "         [143, 148, 156],\n",
              "         [182, 188, 215],\n",
              "         [201, 205, 207]],\n",
              "\n",
              "        [[109, 125, 125],\n",
              "         [ 53,  66,  70],\n",
              "         [ 48,  38,  29],\n",
              "         ...,\n",
              "         [157, 157, 151],\n",
              "         [212, 199, 216],\n",
              "         [206, 214, 204]],\n",
              "\n",
              "        [[ 38,  47,  44],\n",
              "         [ 74,  63,  64],\n",
              "         [131, 130, 117],\n",
              "         ...,\n",
              "         [217, 205, 191],\n",
              "         [249, 237, 242],\n",
              "         [249, 247, 244]],\n",
              "\n",
              "        ...,\n",
              "\n",
              "        [[245, 248, 254],\n",
              "         [243, 250, 254],\n",
              "         [246, 251, 254],\n",
              "         ...,\n",
              "         [255, 255, 255],\n",
              "         [254, 255, 255],\n",
              "         [254, 254, 255]],\n",
              "\n",
              "        [[246, 249, 255],\n",
              "         [244, 248, 254],\n",
              "         [242, 247, 254],\n",
              "         ...,\n",
              "         [254, 255, 255],\n",
              "         [251, 255, 255],\n",
              "         [251, 254, 255]],\n",
              "\n",
              "        [[242, 246, 254],\n",
              "         [243, 246, 253],\n",
              "         [243, 246, 254],\n",
              "         ...,\n",
              "         [251, 254, 255],\n",
              "         [248, 253, 254],\n",
              "         [251, 254, 255]]],\n",
              "\n",
              "\n",
              "       [[[255, 255, 255],\n",
              "         [239, 237, 220],\n",
              "         [142, 122,  86],\n",
              "         ...,\n",
              "         [ 91, 109,  74],\n",
              "         [ 85, 105,  83],\n",
              "         [ 77,  96,  63]],\n",
              "\n",
              "        [[255, 255, 255],\n",
              "         [241, 238, 220],\n",
              "         [141, 118,  83],\n",
              "         ...,\n",
              "         [ 90, 107,  69],\n",
              "         [ 76,  97,  72],\n",
              "         [ 79,  95,  66]],\n",
              "\n",
              "        [[254, 255, 255],\n",
              "         [251, 249, 236],\n",
              "         [175, 145, 119],\n",
              "         ...,\n",
              "         [ 71,  87,  50],\n",
              "         [ 62,  77,  47],\n",
              "         [ 72,  82,  52]],\n",
              "\n",
              "        ...,\n",
              "\n",
              "        [[149, 182, 199],\n",
              "         [204, 197, 225],\n",
              "         [220, 225, 239],\n",
              "         ...,\n",
              "         [141, 176, 190],\n",
              "         [164, 196, 202],\n",
              "         [173, 187, 186]],\n",
              "\n",
              "        [[162, 179, 175],\n",
              "         [241, 223, 227],\n",
              "         [224, 207, 220],\n",
              "         ...,\n",
              "         [ 54,  78,  82],\n",
              "         [ 98, 130, 144],\n",
              "         [141, 174, 189]],\n",
              "\n",
              "        [[156, 172, 169],\n",
              "         [255, 255, 255],\n",
              "         [255, 255, 255],\n",
              "         ...,\n",
              "         [ 33,  41,  28],\n",
              "         [ 42,  56,  60],\n",
              "         [ 71,  92, 103]]],\n",
              "\n",
              "\n",
              "       ...,\n",
              "\n",
              "\n",
              "       [[[ 14,  15,  18],\n",
              "         [ 17,  16,  18],\n",
              "         [ 18,  15,  17],\n",
              "         ...,\n",
              "         [ 12,  11,  14],\n",
              "         [ 12,  11,  14],\n",
              "         [ 13,  12,  15]],\n",
              "\n",
              "        [[ 14,  15,  20],\n",
              "         [ 15,  15,  17],\n",
              "         [ 17,  15,  17],\n",
              "         ...,\n",
              "         [ 12,  11,  14],\n",
              "         [ 12,  11,  14],\n",
              "         [ 13,  12,  15]],\n",
              "\n",
              "        [[ 17,  18,  23],\n",
              "         [ 15,  15,  18],\n",
              "         [ 16,  15,  17],\n",
              "         ...,\n",
              "         [ 12,  11,  14],\n",
              "         [ 13,  11,  13],\n",
              "         [ 14,  12,  14]],\n",
              "\n",
              "        ...,\n",
              "\n",
              "        [[ 13,  12,  15],\n",
              "         [ 13,  13,  16],\n",
              "         [ 13,  13,  16],\n",
              "         ...,\n",
              "         [ 12,  11,  15],\n",
              "         [ 11,  11,  15],\n",
              "         [ 13,  12,  16]],\n",
              "\n",
              "        [[ 14,  13,  16],\n",
              "         [ 12,  12,  15],\n",
              "         [ 13,  13,  17],\n",
              "         ...,\n",
              "         [ 12,  11,  15],\n",
              "         [ 11,  11,  15],\n",
              "         [ 12,  11,  15]],\n",
              "\n",
              "        [[ 14,  12,  15],\n",
              "         [ 13,  12,  15],\n",
              "         [ 13,  13,  16],\n",
              "         ...,\n",
              "         [ 13,  12,  15],\n",
              "         [ 12,  11,  14],\n",
              "         [ 12,  11,  14]]],\n",
              "\n",
              "\n",
              "       [[[ 31,  27,  22],\n",
              "         [ 30,  27,  23],\n",
              "         [ 30,  28,  22],\n",
              "         ...,\n",
              "         [ 29,  26,  26],\n",
              "         [ 30,  27,  24],\n",
              "         [ 27,  25,  22]],\n",
              "\n",
              "        [[ 30,  26,  21],\n",
              "         [ 30,  26,  22],\n",
              "         [ 27,  24,  18],\n",
              "         ...,\n",
              "         [ 33,  30,  29],\n",
              "         [ 28,  26,  23],\n",
              "         [ 26,  24,  21]],\n",
              "\n",
              "        [[ 31,  26,  21],\n",
              "         [ 27,  23,  18],\n",
              "         [ 25,  21,  16],\n",
              "         ...,\n",
              "         [ 39,  37,  33],\n",
              "         [ 36,  35,  31],\n",
              "         [ 37,  35,  31]],\n",
              "\n",
              "        ...,\n",
              "\n",
              "        [[ 34,  31,  24],\n",
              "         [ 34,  31,  25],\n",
              "         [ 36,  33,  27],\n",
              "         ...,\n",
              "         [ 45,  41,  38],\n",
              "         [ 46,  40,  38],\n",
              "         [ 44,  38,  36]],\n",
              "\n",
              "        [[ 38,  34,  26],\n",
              "         [ 38,  35,  27],\n",
              "         [ 38,  35,  27],\n",
              "         ...,\n",
              "         [ 39,  35,  30],\n",
              "         [ 40,  34,  34],\n",
              "         [ 43,  36,  36]],\n",
              "\n",
              "        [[ 37,  33,  26],\n",
              "         [ 37,  32,  24],\n",
              "         [ 31,  28,  20],\n",
              "         ...,\n",
              "         [ 41,  36,  32],\n",
              "         [ 41,  36,  35],\n",
              "         [ 42,  36,  37]]],\n",
              "\n",
              "\n",
              "       [[[ 24,  23,  24],\n",
              "         [ 24,  23,  25],\n",
              "         [ 24,  23,  24],\n",
              "         ...,\n",
              "         [ 19,  17,  19],\n",
              "         [ 19,  18,  19],\n",
              "         [ 21,  20,  20]],\n",
              "\n",
              "        [[ 23,  23,  24],\n",
              "         [ 22,  22,  24],\n",
              "         [ 22,  22,  23],\n",
              "         ...,\n",
              "         [ 19,  17,  19],\n",
              "         [ 21,  20,  21],\n",
              "         [ 21,  20,  21]],\n",
              "\n",
              "        [[ 23,  23,  24],\n",
              "         [ 23,  23,  24],\n",
              "         [ 23,  23,  24],\n",
              "         ...,\n",
              "         [ 22,  20,  20],\n",
              "         [ 22,  21,  21],\n",
              "         [ 22,  21,  22]],\n",
              "\n",
              "        ...,\n",
              "\n",
              "        [[ 26,  25,  23],\n",
              "         [ 31,  29,  25],\n",
              "         [ 30,  26,  24],\n",
              "         ...,\n",
              "         [ 25,  23,  22],\n",
              "         [ 27,  25,  22],\n",
              "         [ 28,  26,  22]],\n",
              "\n",
              "        [[ 22,  22,  20],\n",
              "         [ 27,  26,  23],\n",
              "         [ 28,  25,  23],\n",
              "         ...,\n",
              "         [ 25,  22,  20],\n",
              "         [ 24,  22,  19],\n",
              "         [ 25,  23,  19]],\n",
              "\n",
              "        [[ 22,  20,  19],\n",
              "         [ 23,  22,  20],\n",
              "         [ 25,  23,  21],\n",
              "         ...,\n",
              "         [ 22,  20,  19],\n",
              "         [ 22,  20,  18],\n",
              "         [ 24,  21,  19]]]], dtype=uint8)"
            ]
          },
          "metadata": {},
          "execution_count": 104
        }
      ],
      "source": [
        "data"
      ]
    },
    {
      "cell_type": "markdown",
      "metadata": {
        "id": "dG1auVS0Ps0X"
      },
      "source": [
        "# Save Labels & Data in files"
      ]
    },
    {
      "cell_type": "code",
      "execution_count": 105,
      "metadata": {
        "id": "kBm9pyyrPHDV"
      },
      "outputs": [],
      "source": [
        "np.save('/content/data/data', data)\n",
        "np.save('/content/data/labels', labels)"
      ]
    },
    {
      "cell_type": "markdown",
      "metadata": {
        "id": "XBvOsXDGQFo7"
      },
      "source": [
        "# Load Data & Labels"
      ]
    },
    {
      "cell_type": "code",
      "execution_count": 106,
      "metadata": {
        "id": "IpbL73xaQBwV"
      },
      "outputs": [],
      "source": [
        "data = np.load('/content/data/data.npy')\n",
        "labels = np.load('/content/data/labels.npy')"
      ]
    },
    {
      "cell_type": "code",
      "execution_count": 107,
      "metadata": {
        "colab": {
          "base_uri": "https://localhost:8080/"
        },
        "id": "U2zuZ8gFRBir",
        "outputId": "39a882e4-cd06-4b96-f258-e3fb106f750e"
      },
      "outputs": [
        {
          "output_type": "stream",
          "name": "stdout",
          "text": [
            "(39209, 30, 30, 3) (39209,)\n"
          ]
        }
      ],
      "source": [
        "print(data.shape, labels.shape)"
      ]
    },
    {
      "cell_type": "code",
      "execution_count": 108,
      "metadata": {
        "id": "QrcNawYOREjf"
      },
      "outputs": [],
      "source": [
        "X_train, X_test, Y_train, Y_test = train_test_split(data, \n",
        "                  labels,test_size=0.2, random_state=0)"
      ]
    },
    {
      "cell_type": "markdown",
      "metadata": {
        "id": "xM1xrIAkSlDg"
      },
      "source": [
        "# Convert labels to onehot encoding"
      ]
    },
    {
      "cell_type": "code",
      "execution_count": 109,
      "metadata": {
        "id": "kLHB0SrmSnzj"
      },
      "outputs": [],
      "source": [
        "Y_train = to_categorical(Y_train, 43)\n",
        "Y_test = to_categorical(Y_test, 43)"
      ]
    },
    {
      "cell_type": "code",
      "execution_count": 110,
      "metadata": {
        "colab": {
          "base_uri": "https://localhost:8080/"
        },
        "id": "qbTKBsc3TZf-",
        "outputId": "193e5768-8365-43eb-ecf2-d3bce76d8d21"
      },
      "outputs": [
        {
          "output_type": "execute_result",
          "data": {
            "text/plain": [
              "(30, 30, 3)"
            ]
          },
          "metadata": {},
          "execution_count": 110
        }
      ],
      "source": [
        "input_shape=X_train.shape[1:]\n",
        "input_shape"
      ]
    },
    {
      "cell_type": "markdown",
      "metadata": {
        "id": "YneX4iDtTAhR"
      },
      "source": [
        "# Build CNN"
      ]
    },
    {
      "cell_type": "code",
      "execution_count": 111,
      "metadata": {
        "id": "AeT2k96FSib7"
      },
      "outputs": [],
      "source": [
        "model = Sequential()\n",
        "model.add(Conv2D(filters=32, kernel_size=(5,5), activation='relu',\n",
        "                input_shape=X_train.shape[1:]))\n",
        "model.add(Conv2D(filters=32, kernel_size=(5,5), activation='relu'))\n",
        "model.add(MaxPool2D(pool_size=(2,2)))\n",
        "model.add(Dropout(rate=0.25))\n",
        "\n",
        "model.add(Conv2D(filters=64, kernel_size=(3,3), activation='relu'))\n",
        "model.add(Conv2D(filters=64, kernel_size=(3,3), activation='relu'))\n",
        "model.add(MaxPool2D(pool_size=(2,2)))\n",
        "model.add(Dropout(rate=0.25))\n",
        "model.add(Flatten())\n",
        "model.add(Dense(256, activation='relu'))\n",
        "model.add(Dropout(rate=0.5))\n",
        "model.add(Dense(43, activation='softmax'))"
      ]
    },
    {
      "cell_type": "code",
      "execution_count": 112,
      "metadata": {
        "id": "o17K76GzS7rx"
      },
      "outputs": [],
      "source": [
        "model.compile(\n",
        "    loss='categorical_crossentropy',\n",
        "    optimizer='adam',\n",
        "    metrics=['accuracy']\n",
        ")"
      ]
    },
    {
      "cell_type": "code",
      "execution_count": 113,
      "metadata": {
        "colab": {
          "base_uri": "https://localhost:8080/"
        },
        "id": "mGqDq6_JVlbU",
        "outputId": "682ae160-5365-4eac-e966-23188cc112df"
      },
      "outputs": [
        {
          "output_type": "stream",
          "name": "stdout",
          "text": [
            "Epoch 1/20\n",
            "981/981 [==============================] - 6s 6ms/step - loss: 2.2680 - accuracy: 0.4102 - val_loss: 0.8593 - val_accuracy: 0.7445\n",
            "Epoch 2/20\n",
            "981/981 [==============================] - 6s 6ms/step - loss: 0.9574 - accuracy: 0.7092 - val_loss: 0.4469 - val_accuracy: 0.8699\n",
            "Epoch 3/20\n",
            "981/981 [==============================] - 6s 6ms/step - loss: 0.6233 - accuracy: 0.8117 - val_loss: 0.3460 - val_accuracy: 0.8908\n",
            "Epoch 4/20\n",
            "981/981 [==============================] - 6s 6ms/step - loss: 0.4803 - accuracy: 0.8523 - val_loss: 0.1793 - val_accuracy: 0.9490\n",
            "Epoch 5/20\n",
            "981/981 [==============================] - 6s 6ms/step - loss: 0.4121 - accuracy: 0.8773 - val_loss: 0.2178 - val_accuracy: 0.9406\n",
            "Epoch 6/20\n",
            "981/981 [==============================] - 6s 6ms/step - loss: 0.3619 - accuracy: 0.8914 - val_loss: 0.1204 - val_accuracy: 0.9651\n",
            "Epoch 7/20\n",
            "981/981 [==============================] - 6s 6ms/step - loss: 0.3452 - accuracy: 0.8988 - val_loss: 0.1020 - val_accuracy: 0.9726\n",
            "Epoch 8/20\n",
            "981/981 [==============================] - 6s 6ms/step - loss: 0.3003 - accuracy: 0.9113 - val_loss: 0.0964 - val_accuracy: 0.9695\n",
            "Epoch 9/20\n",
            "981/981 [==============================] - 7s 7ms/step - loss: 0.2912 - accuracy: 0.9160 - val_loss: 0.0921 - val_accuracy: 0.9718\n",
            "Epoch 10/20\n",
            "981/981 [==============================] - 6s 6ms/step - loss: 0.2845 - accuracy: 0.9182 - val_loss: 0.1463 - val_accuracy: 0.9568\n",
            "Epoch 11/20\n",
            "981/981 [==============================] - 5s 6ms/step - loss: 0.2823 - accuracy: 0.9180 - val_loss: 0.0930 - val_accuracy: 0.9726\n",
            "Epoch 12/20\n",
            "981/981 [==============================] - 5s 6ms/step - loss: 0.2694 - accuracy: 0.9233 - val_loss: 0.0681 - val_accuracy: 0.9791\n",
            "Epoch 13/20\n",
            "981/981 [==============================] - 5s 6ms/step - loss: 0.2671 - accuracy: 0.9245 - val_loss: 0.0607 - val_accuracy: 0.9804\n",
            "Epoch 14/20\n",
            "981/981 [==============================] - 6s 6ms/step - loss: 0.2519 - accuracy: 0.9276 - val_loss: 0.1343 - val_accuracy: 0.9614\n",
            "Epoch 15/20\n",
            "981/981 [==============================] - 7s 7ms/step - loss: 0.2618 - accuracy: 0.9270 - val_loss: 0.0698 - val_accuracy: 0.9793\n",
            "Epoch 16/20\n",
            "981/981 [==============================] - 7s 8ms/step - loss: 0.2499 - accuracy: 0.9294 - val_loss: 0.1036 - val_accuracy: 0.9684\n",
            "Epoch 17/20\n",
            "981/981 [==============================] - 6s 6ms/step - loss: 0.2456 - accuracy: 0.9302 - val_loss: 0.0676 - val_accuracy: 0.9797\n",
            "Epoch 18/20\n",
            "981/981 [==============================] - 6s 6ms/step - loss: 0.2600 - accuracy: 0.9287 - val_loss: 0.0652 - val_accuracy: 0.9796\n",
            "Epoch 19/20\n",
            "981/981 [==============================] - 5s 5ms/step - loss: 0.2522 - accuracy: 0.9309 - val_loss: 0.0588 - val_accuracy: 0.9814\n",
            "Epoch 20/20\n",
            "981/981 [==============================] - 5s 5ms/step - loss: 0.2378 - accuracy: 0.9351 - val_loss: 0.0761 - val_accuracy: 0.9774\n"
          ]
        }
      ],
      "source": [
        "histroy  = model.fit(X_train, Y_train, batch_size=32, \n",
        "                     epochs=20, validation_data=(X_test, Y_test))"
      ]
    },
    {
      "cell_type": "markdown",
      "metadata": {
        "id": "EI0QNOPJepRH"
      },
      "source": [
        "#  Accuracy"
      ]
    },
    {
      "cell_type": "code",
      "execution_count": 114,
      "metadata": {
        "colab": {
          "base_uri": "https://localhost:8080/",
          "height": 295
        },
        "id": "zVm5PAkser31",
        "outputId": "5266704a-3233-4059-db63-42b396d5d52d"
      },
      "outputs": [
        {
          "output_type": "display_data",
          "data": {
            "text/plain": [
              "<Figure size 432x288 with 1 Axes>"
            ],
            "image/png": "[encoded data removed]"
          },
          "metadata": {
            "needs_background": "light"
          }
        }
      ],
      "source": [
        "plt.figure(0)\n",
        "plt.plot(histroy.history['accuracy'], label='training accuracy')\n",
        "plt.plot(histroy.history['val_accuracy'], label='val accuracy')\n",
        "plt.title('Accuracy')\n",
        "plt.xlabel('epochs')\n",
        "plt.ylabel('accuracy')\n",
        "plt.legend()\n",
        "plt.show()"
      ]
    },
    {
      "cell_type": "markdown",
      "source": [
        "# Testing Data"
      ],
      "metadata": {
        "id": "ztfiKJprhvwH"
      }
    },
    {
      "cell_type": "code",
      "source": [
        "tst = pd.read_csv('Test.csv')\n",
        "label = tst['ClassId'].values\n",
        "imgs = tst['Path'].values\n",
        "print(label)\n",
        "print(imgs)\n",
        "data = []\n",
        "for img in imgs:\n",
        "  image = Image.open(img)\n",
        "  image = image.resize((30,30))\n",
        "  data.append(np.array(image))\n",
        "\n",
        "X_test = np.array(data)\n",
        "\n"
      ],
      "metadata": {
        "colab": {
          "base_uri": "https://localhost:8080/"
        },
        "id": "OtlR62iEn2UF",
        "outputId": "4cfeaa4a-2940-47dc-c784-4ecc897579d3"
      },
      "execution_count": 125,
      "outputs": [
        {
          "output_type": "stream",
          "name": "stdout",
          "text": [
            "[16  1 38 ...  6  7 10]\n",
            "['Test/00000.png' 'Test/00001.png' 'Test/00002.png' ... 'Test/12627.png'\n",
            " 'Test/12628.png' 'Test/12629.png']\n"
          ]
        }
      ]
    },
    {
      "cell_type": "code",
      "source": [
        "Y_pred = np.argmax(model.predict(X_test), axis=-1)\n",
        "Y_pred"
      ],
      "metadata": {
        "colab": {
          "base_uri": "https://localhost:8080/"
        },
        "id": "-TpGZKBeicQ4",
        "outputId": "fcdb702e-5b22-499c-9aac-71e6c2427ab3"
      },
      "execution_count": 127,
      "outputs": [
        {
          "output_type": "stream",
          "name": "stdout",
          "text": [
            "395/395 [==============================] - 1s 2ms/step\n"
          ]
        },
        {
          "output_type": "execute_result",
          "data": {
            "text/plain": [
              "array([16,  1, 38, ..., 32,  7, 10])"
            ]
          },
          "metadata": {},
          "execution_count": 127
        }
      ]
    },
    {
      "cell_type": "code",
      "source": [
        "Y_pred.min()"
      ],
      "metadata": {
        "colab": {
          "base_uri": "https://localhost:8080/"
        },
        "id": "6EdM5JVbjA9R",
        "outputId": "84eed78f-6a6f-4c8a-850e-4dd2f05d6dbf"
      },
      "execution_count": 128,
      "outputs": [
        {
          "output_type": "execute_result",
          "data": {
            "text/plain": [
              "0"
            ]
          },
          "metadata": {},
          "execution_count": 128
        }
      ]
    },
    {
      "cell_type": "markdown",
      "source": [
        "# Accuracy on Testing Data"
      ],
      "metadata": {
        "id": "lwJpiDcnjqZN"
      }
    },
    {
      "cell_type": "code",
      "source": [
        "from sklearn.metrics import accuracy_score"
      ],
      "metadata": {
        "id": "U28SZZkWjpX7"
      },
      "execution_count": 129,
      "outputs": []
    },
    {
      "cell_type": "code",
      "source": [
        "accuracy_score(label, Y_pred)"
      ],
      "metadata": {
        "colab": {
          "base_uri": "https://localhost:8080/"
        },
        "id": "-5bc1-6BjxT9",
        "outputId": "e3b51628-da87-47c5-bcb1-cbd69db6298c"
      },
      "execution_count": 191,
      "outputs": [
        {
          "output_type": "execute_result",
          "data": {
            "text/plain": [
              "0.9448931116389548"
            ]
          },
          "metadata": {},
          "execution_count": 191
        }
      ]
    },
    {
      "cell_type": "code",
      "source": [
        "classes = { 0:'Speed limit (20km/h)',\n",
        "            1:'Speed limit (30km/h)', \n",
        "            2:'Speed limit (50km/h)', \n",
        "            3:'Speed limit (60km/h)', \n",
        "            4:'Speed limit (70km/h)', \n",
        "            5:'Speed limit (80km/h)', \n",
        "            6:'End of speed limit (80km/h)', \n",
        "            7:'Speed limit (100km/h)', \n",
        "            8:'Speed limit (120km/h)', \n",
        "            9:'No passing', \n",
        "            10:'No passing veh over 3.5 tons', \n",
        "            11:'Right-of-way at intersection', \n",
        "            12:'Priority road', \n",
        "            13:'Yield', \n",
        "            14:'Stop', \n",
        "            15:'No vehicles', \n",
        "            16:'Veh > 3.5 tons prohibited', \n",
        "            17:'No entry', \n",
        "            18:'General caution', \n",
        "            19:'Dangerous curve left', \n",
        "            20:'Dangerous curve right', \n",
        "            21:'Double curve', \n",
        "            22:'Bumpy road', \n",
        "            23:'Slippery road', \n",
        "            24:'Road narrows on the right', \n",
        "            25:'Road work', \n",
        "            26:'Traffic signals', \n",
        "            27:'Pedestrians', \n",
        "            28:'Children crossing', \n",
        "            29:'Bicycles crossing', \n",
        "            30:'Beware of ice/snow',\n",
        "            31:'Wild animals crossing', \n",
        "            32:'End speed + passing limits', \n",
        "            33:'Turn right ahead', \n",
        "            34:'Turn left ahead', \n",
        "            35:'Ahead only', \n",
        "            36:'Go straight or right', \n",
        "            37:'Go straight or left', \n",
        "            38:'Keep right', \n",
        "            39:'Keep left', \n",
        "            40:'Roundabout mandatory', \n",
        "            41:'End of no passing', \n",
        "            42:'End no passing veh > 3.5 tons' }"
      ],
      "metadata": {
        "id": "INVk3R3Gk5Rh"
      },
      "execution_count": 190,
      "outputs": []
    },
    {
      "cell_type": "code",
      "source": [
        "from PIL import Image\n",
        "import numpy as np\n",
        "\n",
        "def test_on_img(img):\n",
        "  data = []\n",
        "  image = Image.open(img)\n",
        "  image = image.resize((30,30))\n",
        "  data.append(np.array(image))\n",
        "  X_test = np.array(data)\n",
        "  Y_pred = np.argmax(model.predict(X_test), axis=-1)\n",
        "  return image, Y_pred\n"
      ],
      "metadata": {
        "id": "q2vefAF-k7yM"
      },
      "execution_count": 192,
      "outputs": []
    },
    {
      "cell_type": "code",
      "source": [
        "# /content/Test/00002.png\n",
        "plot, prediction = test_on_img(r'/content/Test/00002.png')\n",
        "s = [str(i) for i in prediction]\n",
        "a = int(\"\".join(s))\n",
        "# print(a)\n",
        "print(\"Predicted traffic sign is  : \", classes[a])\n",
        "plt.imshow(plot)\n",
        "plt.show()"
      ],
      "metadata": {
        "id": "Ltnmbpd2li4x"
      },
      "execution_count": null,
      "outputs": []
    }
  ],
  "metadata": {
    "accelerator": "GPU",
    "colab": {
      "provenance": [],
      "authorship_tag": "ABX9TyPr01wHhe9Q07Hj/UHw89Cz",
      "include_colab_link": true
    },
    "gpuClass": "standard",
    "kernelspec": {
      "display_name": "Python 3",
      "name": "python3"
    },
    "language_info": {
      "name": "python"
    }
  },
  "nbformat": 4,
  "nbformat_minor": 0
}